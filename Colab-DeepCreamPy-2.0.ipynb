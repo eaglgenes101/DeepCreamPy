{
  "nbformat": 4,
  "nbformat_minor": 0,
  "metadata": {
    "colab": {
      "name": "Colab-DeepCreamPy-2.0.ipynb",
      "provenance": [],
      "private_outputs": true,
      "collapsed_sections": [],
      "toc_visible": true
    },
    "kernelspec": {
      "name": "python3",
      "display_name": "Python 3"
    },
    "accelerator": "GPU"
  },
  "cells": [
    {
      "cell_type": "markdown",
      "metadata": {
        "id": "0X4wxH4BkCAJ",
        "colab_type": "text"
      },
      "source": [
        "# Colab-DeepCreamPy\n",
        "\n",
        "Just place the files in the correct folder(s) (the locations are mentioned below, near the Google Drive code) and run every box once.\n",
        "\n",
        "If you already ran every box once and you want to run DCP again (*I mean in an active session. You need to re-run everything if the virtual machine gets deleted after a timeout.*), then you only need to run these cells to avoid redownloading/reinstalling:\n",
        "- (Copy Google Drive Input -> Colab)\n",
        "- Apply Decensor\n",
        "- (Copy Colab -> Google Drive)\n",
        "\n",
        "Brackets only need to be re-run if you want to work with Google Drive.\n",
        "\n",
        "Virtual Machine gets deleted after 30 Minutes inactivity or 12 hours of continuous usage."
      ]
    },
    {
      "cell_type": "code",
      "metadata": {
        "id": "j16BPC-GDG8N",
        "colab_type": "code",
        "colab": {}
      },
      "source": [
        "# Check your GPU\n",
        "!nvidia-smi"
      ],
      "execution_count": 0,
      "outputs": []
    },
    {
      "cell_type": "code",
      "metadata": {
        "id": "3GlscfVXIVK5",
        "colab_type": "code",
        "colab": {}
      },
      "source": [
        "# Download model files\n",
        "!wget https://github.com/deeppomf/DeepCreamPy/archive/v2.0.0-beta.tar.gz\n",
        "!tar -C /content/ -xvf \"/content/v2.0.0-beta.tar.gz\"\n",
        "\n",
        "# Place model files\n",
        "!sudo apt install unzip\n",
        "!pip install gdown\n",
        "%cd /content/DeepCreamPy-2.0.0-beta/models\n",
        "\n",
        "!gdown https://drive.google.com/uc?id=1IMwzqZUuRnTv5jcuKdvZx-RZweknww5x\n",
        "!unzip \"/content/DeepCreamPy-2.0.0-beta/models/09-11-2019 DCPv2 model.zip\"\n",
        "\n",
        "# Move model files\n",
        "%cd '/content/DeepCreamPy-2.0.0-beta/models/09-11-2019 DCPv2 model'\n",
        "!mv '/content/DeepCreamPy-2.0.0-beta/models/09-11-2019 DCPv2 model/bar' '/content/DeepCreamPy-2.0.0-beta/models/bar'\n",
        "!mv '/content/DeepCreamPy-2.0.0-beta/models/09-11-2019 DCPv2 model/mosaic' '/content/DeepCreamPy-2.0.0-beta/models/mosaic'\n",
        "#!rmdir '/content/DeepCreamPy-2.0.0-beta/models/09-11-2019 DCPv2 model'\n",
        "%cd '/content/DeepCreamPy-2.0.0-beta'"
      ],
      "execution_count": 0,
      "outputs": []
    },
    {
      "cell_type": "code",
      "metadata": {
        "id": "xCZF2pPRC44-",
        "colab_type": "code",
        "colab": {}
      },
      "source": [
        "%cd '/content/DeepCreamPy-2.0.0-beta'\n",
        "!pip install tensorflow==1.15\n",
        "!pip install keras==2.2.4\n",
        "!pip install scipy\n",
        "!pip install opencv-python\n",
        "!wget https://raw.githubusercontent.com/deeppomf/DeepCreamPy/master/requirements-gpu.txt\n",
        "!pip install -r requirements-gpu.txt"
      ],
      "execution_count": 0,
      "outputs": []
    },
    {
      "cell_type": "markdown",
      "metadata": {
        "id": "kCXy5WBgVc3o",
        "colab_type": "text"
      },
      "source": [
        "# Copy files from Drive or place them manually\n",
        "\n",
        "If you want to use Google Drive, create these paths inside your Google Drive or use the code below to create it automatically and place your files there.\n",
        "- \"Google Drive\"/deepcreampy/decensor_input\n",
        "- \"Google Drive\"/deepcreampy/decensor_input_original\n",
        "\n",
        "If you don't want to use Google Drive, then upload the files to Colab.\n",
        " - /content/DeepCreamPy-2.0.0-beta/decensor_input\n",
        " - /content/DeepCreamPy-2.0.0-beta/decensor_input_original\n",
        "\n",
        "\n",
        " The results will be in:\n",
        " - \"Google Drive\"/deepcreampy/decensor_output\n",
        "\n",
        "or\n",
        "\n",
        "- /content/DeepCreamPy-2.0.0-beta/decensor_output\n",
        " \n",
        "\n",
        "depending on what you choose."
      ]
    },
    {
      "cell_type": "code",
      "metadata": {
        "id": "TXp6H4RxDJPV",
        "colab_type": "code",
        "colab": {}
      },
      "source": [
        "# Connect Google Drive, if you want to use Google Drive\n",
        "from google.colab import drive\n",
        "drive.mount('/content/drive')\n",
        "print('Google Drive connected.')"
      ],
      "execution_count": 0,
      "outputs": []
    },
    {
      "cell_type": "code",
      "metadata": {
        "id": "zrEIUCwTBr9U",
        "colab_type": "code",
        "colab": {}
      },
      "source": [
        "# Automatically create needed Google Drive Folders (ONLY RUN THIS ONCE, if you want to use Google Drive. This simply creates folders inside your Google Drive.\n",
        "# You don't need to create them again if you already have them.) Or create them manually. The required paths are mentioned above.\n",
        "!mkdir '/content/drive/My Drive/deepcreampy/'\n",
        "!mkdir '/content/drive/My Drive/deepcreampy/decensor_input/'\n",
        "!mkdir '/content/drive/My Drive/deepcreampy/decensor_input_original/'\n",
        "!mkdir '/content/drive/My Drive/deepcreampy/decensor_output/'"
      ],
      "execution_count": 0,
      "outputs": []
    },
    {
      "cell_type": "code",
      "metadata": {
        "id": "NGXTNsuw_sfI",
        "colab_type": "code",
        "colab": {}
      },
      "source": [
        "# Copy Google Drive input folder(s) -> Colab (if you want to use Google Drive))\n",
        "!cp -r '/content/drive/My Drive/deepcreampy/decensor_input/' '/content/DeepCreamPy-2.0.0-beta/'\n",
        "!cp -r '/content/drive/My Drive/deepcreampy/decensor_input_original/' '/content/DeepCreamPy-2.0.0-beta/'"
      ],
      "execution_count": 0,
      "outputs": []
    },
    {
      "cell_type": "code",
      "metadata": {
        "id": "O_AamorxHhVF",
        "colab_type": "code",
        "colab": {}
      },
      "source": [
        "# Apply Decensor (bar)\n",
        "%cd '/content/DeepCreamPy-2.0.0-beta'\n",
        "!python decensor.py"
      ],
      "execution_count": 0,
      "outputs": []
    },
    {
      "cell_type": "code",
      "metadata": {
        "id": "9BHzlvZJJ-pU",
        "colab_type": "code",
        "colab": {}
      },
      "source": [
        "# Apply Decensor (mosaic)\n",
        "%cd '/content/DeepCreamPy-2.0.0-beta'\n",
        "!python decensor.py --is_mosaic 1"
      ],
      "execution_count": 0,
      "outputs": []
    },
    {
      "cell_type": "code",
      "metadata": {
        "id": "q3GCYxFwXkhk",
        "colab_type": "code",
        "colab": {}
      },
      "source": [
        "# Copy Colab -> Google Drive output folder (if you want to use Google Drive)\n",
        "!cp -r '/content/DeepCreamPy-2.0.0-beta/decensor_output' '/content/drive/My Drive/deepcreampy/'"
      ],
      "execution_count": 0,
      "outputs": []
    }
  ]
}
